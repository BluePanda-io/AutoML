{
 "cells": [
  {
   "cell_type": "markdown",
   "metadata": {},
   "source": [
    "# The goal of this project is to create Systematic - Automatic approach of dealing with ML prototyping"
   ]
  },
  {
   "cell_type": "markdown",
   "metadata": {},
   "source": [
    "## First we always start with Reading Data, Visualizing Data, Cleaning Data"
   ]
  },
  {
   "cell_type": "code",
   "execution_count": 1,
   "metadata": {},
   "outputs": [
    {
     "name": "stdout",
     "output_type": "stream",
     "text": [
      "   House  Time      TV      Agg\n",
      "0    1.0   0.0  11.463   26.205\n",
      "1    1.0   1.0  11.702   25.771\n",
      "2    1.0   2.0  11.016   24.963\n",
      "3    1.0   3.0  11.054   96.582\n",
      "4    1.0   4.0  11.123  100.034\n"
     ]
    }
   ],
   "source": [
    "import pandas as pd\n",
    "import datetime\n",
    "import numpy as np\n",
    "\n",
    "from time import gmtime\n",
    "from time import strftime\n",
    "\n",
    "dataFrame = pd.read_csv('Q3-data.csv') \n",
    "print(dataFrame.head())"
   ]
  },
  {
   "cell_type": "markdown",
   "metadata": {},
   "source": [
    "# Before anything starts we need to formulate how to set up our data\n",
    "If this is a supervised learning problem we will need a clear input output data, so we will have to clean this and creat a clear input output connection\n",
    "\n",
    "In this particular problem we can do that using the TV column, we translate this info"
   ]
  }
 ],
 "metadata": {
  "kernelspec": {
   "display_name": "Python (pytorch)",
   "language": "python",
   "name": "myenv"
  },
  "language_info": {
   "codemirror_mode": {
    "name": "ipython",
    "version": 2
   },
   "file_extension": ".py",
   "mimetype": "text/x-python",
   "name": "python",
   "nbconvert_exporter": "python",
   "pygments_lexer": "ipython2",
   "version": "2.7.15"
  }
 },
 "nbformat": 4,
 "nbformat_minor": 2
}
